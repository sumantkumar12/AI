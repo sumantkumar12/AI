{
  "nbformat": 4,
  "nbformat_minor": 0,
  "metadata": {
    "colab": {
      "provenance": []
    },
    "kernelspec": {
      "name": "python3",
      "display_name": "Python 3"
    },
    "language_info": {
      "name": "python"
    }
  },
  "cells": [
    {
      "cell_type": "code",
      "execution_count": 8,
      "metadata": {
        "colab": {
          "base_uri": "https://localhost:8080/"
        },
        "id": "6yU-b7U99L7R",
        "outputId": "3c80bf18-fa67-488e-8c66-16be155bc1d3"
      },
      "outputs": [
        {
          "output_type": "stream",
          "name": "stdout",
          "text": [
            "The first 5 Values of data is :\n",
            "     Outlook Temperature Humidity  Windy PlayTennis\n",
            "0     Sunny         Hot     High  False         No\n",
            "1  Overcast         Hot     High   True        Yes\n",
            "2      Rain        Mild     High  False        Yes\n",
            "3      Rain        Cool   Normal   True        Yes\n",
            "4      Rain        Cool   Normal   True         No\n",
            "\n",
            "The First 5 values of the train data is\n",
            "     Outlook Temperature Humidity  Windy\n",
            "0     Sunny         Hot     High  False\n",
            "1  Overcast         Hot     High   True\n",
            "2      Rain        Mild     High  False\n",
            "3      Rain        Cool   Normal   True\n",
            "4      Rain        Cool   Normal   True\n",
            "\n",
            "The First 5 values of train output is\n",
            " 0     No\n",
            "1    Yes\n",
            "2    Yes\n",
            "3    Yes\n",
            "4     No\n",
            "Name: PlayTennis, dtype: object\n",
            "\n",
            "Now the Train output is\n",
            "    Outlook  Temperature  Humidity  Windy\n",
            "0        2            1         0      0\n",
            "1        0            1         0      1\n",
            "2        1            2         0      0\n",
            "3        1            0         1      1\n",
            "4        1            0         1      1\n",
            "\n",
            "Now the Train output is\n",
            " [0 1 1 1 0 1 0 1 1 1 1 1 0]\n",
            "Accuracy is: 0.6666666666666666\n"
          ]
        }
      ],
      "source": [
        "# import necessary libraries\n",
        "import pandas as pd\n",
        "from sklearn import tree\n",
        "from sklearn.preprocessing import LabelEncoder\n",
        "from sklearn.naive_bayes import GaussianNB\n",
        "\n",
        "# Load Data from CSV\n",
        "data = pd.read_csv('tennis.csv')\n",
        "print(\"The first 5 Values of data is :\\n\", data.head())\n",
        "\n",
        "# obtain train data and train output\n",
        "X = data.iloc[:, :-1]\n",
        "print(\"\\nThe First 5 values of the train data is\\n\", X.head())\n",
        "\n",
        "y = data.iloc[:, -1]\n",
        "print(\"\\nThe First 5 values of train output is\\n\", y.head())\n",
        "\n",
        "# convert them in numbers\n",
        "le_outlook = LabelEncoder()\n",
        "X.Outlook = le_outlook.fit_transform(X.Outlook)\n",
        "\n",
        "le_Temperature = LabelEncoder()\n",
        "X.Temperature = le_Temperature.fit_transform(X.Temperature)\n",
        "\n",
        "le_Humidity = LabelEncoder()\n",
        "X.Humidity = le_Humidity.fit_transform(X.Humidity)\n",
        "\n",
        "le_Windy = LabelEncoder()\n",
        "X.Windy = le_Windy.fit_transform(X.Windy)\n",
        "\n",
        "print(\"\\nNow the Train output is\\n\", X.head())\n",
        "\n",
        "le_PlayTennis = LabelEncoder()\n",
        "y = le_PlayTennis.fit_transform(y)\n",
        "print(\"\\nNow the Train output is\\n\",y)\n",
        "\n",
        "from sklearn.model_selection import train_test_split\n",
        "X_train, X_test, y_train, y_test = train_test_split(X,y, test_size = 0.20)\n",
        "\n",
        "classifier = GaussianNB()\n",
        "classifier.fit(X_train, y_train)\n",
        "\n",
        "from sklearn.metrics import accuracy_score\n",
        "print(\"Accuracy is:\", accuracy_score(classifier.predict(X_test), y_test))"
      ]
    }
  ]
}